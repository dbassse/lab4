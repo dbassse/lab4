{
 "cells": [
  {
   "cell_type": "code",
   "execution_count": 142,
   "id": "28031bc4-dba2-45ea-aa28-8db90935c6ed",
   "metadata": {},
   "outputs": [
    {
     "name": "stdout",
     "output_type": "stream",
     "text": [
      "running: pytest -m not slow and not network and not db C:\\Users\\Admino\\anaconda3\\Lib\\site-packages\\pandas\n",
      "\u001b[1m================================================= test session starts =================================================\u001b[0m\n",
      "platform win32 -- Python 3.12.7, pytest-7.4.4, pluggy-1.0.0\n",
      "rootdir: C:\\Users\\Admino\\anaconda3\\Lib\\site-packages\\pandas\n",
      "configfile: pyproject.toml\n",
      "plugins: anyio-4.2.0, hypothesis-6.130.6, typeguard-4.3.0\n",
      "collected 229484 items / 9 errors / 4163 deselected / 5 skipped / 225321 selected\n",
      "\n",
      "======================================================= ERRORS ========================================================\n",
      "\u001b[31m\u001b[1m__________________________________ ERROR collecting tests/apply/test_invalid_arg.py ___________________________________\u001b[0m\n",
      "\u001b[31mEmpty parameter set in 'test_agg_cython_table_raises_series' at line 232\u001b[0m\n",
      "\u001b[31m\u001b[1m______________________________________ ERROR collecting tests/apply/test_str.py _______________________________________\u001b[0m\n",
      "\u001b[31mEmpty parameter set in 'test_agg_cython_table_series' at line 89\u001b[0m\n",
      "\u001b[31m\u001b[1m_________________________________ ERROR collecting tests/frame/test_stack_unstack.py __________________________________\u001b[0m\n",
      "\u001b[31mEmpty parameter set in 'test_unstack_nan_index_repeats' at line 859\u001b[0m\n",
      "\u001b[31m\u001b[1m_________________________________ ERROR collecting tests/frame/test_stack_unstack.py __________________________________\u001b[0m\n",
      "\u001b[31mEmpty parameter set in 'test_stack_order_with_unsorted_levels' at line 2199\u001b[0m\n",
      "\u001b[31m\u001b[1m______________________________ ERROR collecting tests/indexes/interval/test_interval.py _______________________________\u001b[0m\n",
      "\u001b[31mEmpty parameter set in 'test_maybe_convert_i8_errors' at line 437\u001b[0m\n",
      "\u001b[31m\u001b[1m____________________________ ERROR collecting tests/indexes/interval/test_interval_tree.py ____________________________\u001b[0m\n",
      "\u001b[31mEmpty parameter set in 'test_is_overlapping' at line 141\u001b[0m\n",
      "\u001b[31m\u001b[1m________________________________ ERROR collecting tests/reshape/concat/test_append.py _________________________________\u001b[0m\n",
      "\u001b[31mEmpty parameter set in 'test_append_different_columns_types' at line 221\u001b[0m\n",
      "\u001b[31m\u001b[1m____________________________ ERROR collecting tests/series/methods/test_convert_dtypes.py _____________________________\u001b[0m\n",
      "\u001b[31mEmpty parameter set in 'test_convert_dtypes' at line 184\u001b[0m\n",
      "\u001b[31m\u001b[1m_______________________________ ERROR collecting tests/tseries/offsets/test_offsets.py ________________________________\u001b[0m\n",
      "\u001b[31mEmpty parameter set in 'test_add' at line 638\u001b[0m\n",
      "\u001b[33m================================================== warnings summary ===================================================\u001b[0m\n",
      "..\\..\\Lib\\site-packages\\_pytest\\config\\__init__.py:1204\n",
      "..\\..\\Lib\\site-packages\\_pytest\\config\\__init__.py:1204\n",
      "  C:\\Users\\Admino\\anaconda3\\Lib\\site-packages\\_pytest\\config\\__init__.py:1204: PytestAssertRewriteWarning: Module already imported so cannot be rewritten: _hypothesis_globals\n",
      "    self._mark_plugins_for_rewrite(hook)\n",
      "\n",
      "..\\..\\Lib\\site-packages\\_pytest\\config\\__init__.py:1204\n",
      "..\\..\\Lib\\site-packages\\_pytest\\config\\__init__.py:1204\n",
      "  C:\\Users\\Admino\\anaconda3\\Lib\\site-packages\\_pytest\\config\\__init__.py:1204: PytestAssertRewriteWarning: Module already imported so cannot be rewritten: hypothesis\n",
      "    self._mark_plugins_for_rewrite(hook)\n",
      "\n",
      "-- Docs: https://docs.pytest.org/en/stable/how-to/capture-warnings.html\n",
      "---------------------- generated xml file: C:\\Users\\Admino\\anaconda3\\Scripts\\lab4\\test-data.xml -----------------------\n",
      "\u001b[36m\u001b[1m=============================================== short test summary info ===============================================\u001b[0m\n",
      "\u001b[31mERROR\u001b[0m ..\\..\\Lib\\site-packages\\pandas\\tests\\apply\\test_invalid_arg.py\n",
      "\u001b[31mERROR\u001b[0m ..\\..\\Lib\\site-packages\\pandas\\tests\\apply\\test_str.py\n",
      "\u001b[31mERROR\u001b[0m ..\\..\\Lib\\site-packages\\pandas\\tests\\frame\\test_stack_unstack.py::\u001b[1mTestDataFrameReshape\u001b[0m\n",
      "\u001b[31mERROR\u001b[0m ..\\..\\Lib\\site-packages\\pandas\\tests\\frame\\test_stack_unstack.py::\u001b[1mTestStackUnstackMultiLevel\u001b[0m\n",
      "\u001b[31mERROR\u001b[0m ..\\..\\Lib\\site-packages\\pandas\\tests\\indexes\\interval\\test_interval.py::\u001b[1mTestIntervalIndex\u001b[0m\n",
      "\u001b[31mERROR\u001b[0m ..\\..\\Lib\\site-packages\\pandas\\tests\\indexes\\interval\\test_interval_tree.py::\u001b[1mTestIntervalTree\u001b[0m\n",
      "\u001b[31mERROR\u001b[0m ..\\..\\Lib\\site-packages\\pandas\\tests\\reshape\\concat\\test_append.py::\u001b[1mTestAppend\u001b[0m\n",
      "\u001b[31mERROR\u001b[0m ..\\..\\Lib\\site-packages\\pandas\\tests\\series\\methods\\test_convert_dtypes.py::\u001b[1mTestSeriesConvertDtypes\u001b[0m\n",
      "\u001b[31mERROR\u001b[0m ..\\..\\Lib\\site-packages\\pandas\\tests\\tseries\\offsets\\test_offsets.py::\u001b[1mTestDateOffset\u001b[0m\n",
      "!!!!!!!!!!!!!!!!!!!!!!!!!!!!!!!!!!!!!!! Interrupted: 9 errors during collection !!!!!!!!!!!!!!!!!!!!!!!!!!!!!!!!!!!!!!!\n",
      "\u001b[31m============================= \u001b[33m5 skipped\u001b[0m, \u001b[33m4163 deselected\u001b[0m, \u001b[33m4 warnings\u001b[0m, \u001b[31m\u001b[1m9 errors\u001b[0m\u001b[31m in 36.60s\u001b[0m\u001b[31m ==============================\u001b[0m\n"
     ]
    },
    {
     "ename": "SystemExit",
     "evalue": "2",
     "output_type": "error",
     "traceback": [
      "An exception has occurred, use %tb to see the full traceback.\n",
      "\u001b[1;31mSystemExit\u001b[0m\u001b[1;31m:\u001b[0m 2\n"
     ]
    },
    {
     "name": "stderr",
     "output_type": "stream",
     "text": [
      "C:\\Users\\Admino\\anaconda3\\Lib\\site-packages\\IPython\\core\\interactiveshell.py:3585: UserWarning: To exit: use 'exit', 'quit', or Ctrl-D.\n",
      "  warn(\"To exit: use 'exit', 'quit', or Ctrl-D.\", stacklevel=1)\n"
     ]
    }
   ],
   "source": [
    "import pandas as pd\n",
    "pd.test()"
   ]
  },
  {
   "cell_type": "code",
   "execution_count": 8,
   "id": "367c5d5c-c492-4390-b595-676b66773912",
   "metadata": {},
   "outputs": [],
   "source": [
    "import numpy as np"
   ]
  },
  {
   "cell_type": "code",
   "execution_count": 5,
   "id": "879df217-391e-4db4-85a4-94e70448801c",
   "metadata": {},
   "outputs": [
    {
     "name": "stdout",
     "output_type": "stream",
     "text": [
      "0    1\n",
      "1    2\n",
      "2    3\n",
      "3    4\n",
      "4    5\n",
      "dtype: int64\n"
     ]
    }
   ],
   "source": [
    "s1 = pd.Series([1, 2, 3, 4, 5])\n",
    "print(s1)"
   ]
  },
  {
   "cell_type": "code",
   "execution_count": 6,
   "id": "f5e34660-a6a3-4de9-be97-20f81aab0e9f",
   "metadata": {},
   "outputs": [
    {
     "name": "stdout",
     "output_type": "stream",
     "text": [
      "a    1\n",
      "b    2\n",
      "c    3\n",
      "d    4\n",
      "e    5\n",
      "dtype: int64\n"
     ]
    }
   ],
   "source": [
    "s2 = pd.Series([1, 2, 3, 4, 5], ['a', 'b', 'c', 'd', 'e'])\n",
    "print(s2)"
   ]
  },
  {
   "cell_type": "code",
   "execution_count": 15,
   "id": "8a0dcb9b-4dde-4650-9964-de874e7cf31a",
   "metadata": {},
   "outputs": [
    {
     "data": {
      "text/plain": [
       "numpy.ndarray"
      ]
     },
     "execution_count": 15,
     "metadata": {},
     "output_type": "execute_result"
    }
   ],
   "source": [
    "ndarr = np.array([1, 2, 3, 4, 5])\n",
    "type(ndarr)"
   ]
  },
  {
   "cell_type": "code",
   "execution_count": 12,
   "id": "c23d714e-377b-4706-9a14-da079dcf73bb",
   "metadata": {},
   "outputs": [
    {
     "name": "stdout",
     "output_type": "stream",
     "text": [
      "a    1\n",
      "b    2\n",
      "c    3\n",
      "d    4\n",
      "e    5\n",
      "dtype: int32\n"
     ]
    }
   ],
   "source": [
    "s3 = pd.Series(ndarr, ['a', 'b', 'c', 'd', 'e'])\n",
    "print(s3)"
   ]
  },
  {
   "cell_type": "code",
   "execution_count": 13,
   "id": "6b9ae4aa-19d8-4ea2-ac35-be5511b40d4f",
   "metadata": {},
   "outputs": [
    {
     "name": "stdout",
     "output_type": "stream",
     "text": [
      "a    1\n",
      "b    2\n",
      "c    3\n",
      "dtype: int64\n"
     ]
    }
   ],
   "source": [
    "d = {'a':1, 'b':2, 'c':3}\n",
    "s4 = pd.Series(d)\n",
    "print(s4)"
   ]
  },
  {
   "cell_type": "code",
   "execution_count": 14,
   "id": "3faf7658-6c47-4f95-a838-0483e75dc6a2",
   "metadata": {},
   "outputs": [
    {
     "name": "stdout",
     "output_type": "stream",
     "text": [
      "a    7\n",
      "b    7\n",
      "c    7\n",
      "dtype: int64\n"
     ]
    }
   ],
   "source": [
    "a = 7\n",
    "s5 = pd.Series(a, ['a', 'b', 'c'])\n",
    "print(s5)"
   ]
  },
  {
   "cell_type": "code",
   "execution_count": 22,
   "id": "5834bef8-a65d-4754-9030-ad227b699875",
   "metadata": {},
   "outputs": [
    {
     "name": "stdout",
     "output_type": "stream",
     "text": [
      "3\n",
      "4\n",
      "a    1\n",
      "b    2\n",
      "dtype: int64\n",
      "a    1\n",
      "b    2\n",
      "c    3\n",
      "dtype: int64\n"
     ]
    },
    {
     "name": "stderr",
     "output_type": "stream",
     "text": [
      "C:\\Users\\Admino\\AppData\\Local\\Temp\\ipykernel_13536\\3822981573.py:2: FutureWarning: Series.__getitem__ treating keys as positions is deprecated. In a future version, integer keys will always be treated as labels (consistent with DataFrame behavior). To access a value by position, use `ser.iloc[pos]`\n",
      "  print(s6[2])\n"
     ]
    }
   ],
   "source": [
    "s6 = pd.Series([1, 2, 3, 4, 5], ['a', 'b', 'c', 'd', 'e'])\n",
    "print(s6[2])\n",
    "print(s6['d'])\n",
    "print(s6[:2])\n",
    "print(s6[s6 <= 3])"
   ]
  },
  {
   "cell_type": "code",
   "execution_count": 23,
   "id": "7599c0ad-712e-4d19-a243-f3730a333b34",
   "metadata": {},
   "outputs": [
    {
     "name": "stdout",
     "output_type": "stream",
     "text": [
      "a    11\n",
      "b    22\n",
      "c    33\n",
      "d    44\n",
      "e    55\n",
      "dtype: int64\n",
      "a     3\n",
      "b     6\n",
      "c     9\n",
      "d    12\n",
      "e    15\n",
      "dtype: int64\n"
     ]
    }
   ],
   "source": [
    "s7 = pd.Series([10, 20, 30, 40, 50], ['a', 'b', 'c', 'd','e'])\n",
    "print(s6 + s7)\n",
    "print(s6 * 3)"
   ]
  },
  {
   "cell_type": "code",
   "execution_count": 24,
   "id": "fcfc8057-84f3-4cb3-bd63-dff3bb26d02b",
   "metadata": {},
   "outputs": [
    {
     "name": "stdout",
     "output_type": "stream",
     "text": [
      "10\n",
      "30\n",
      "50\n"
     ]
    }
   ],
   "source": [
    " s = pd.Series([10, 20, 30, 40, 50], index=['a', 'b', 'c', 'd', 'e'])\n",
    "# Доступ к элементам по порядковому номеру\n",
    "print(s.iloc[0]) # Первый элемент (10)\n",
    "print(s.iloc[2]) # Третий элемент (30)\n",
    "print(s.iloc[-1]) # Последний элемент (50)"
   ]
  },
  {
   "cell_type": "code",
   "execution_count": 25,
   "id": "21a48a3f-4365-465b-9bfe-c62d8206818a",
   "metadata": {},
   "outputs": [
    {
     "name": "stdout",
     "output_type": "stream",
     "text": [
      "10\n",
      "30\n",
      "50\n"
     ]
    }
   ],
   "source": [
    "# Доступ к элементам по метке индекса\n",
    "print(s.loc['a']) # Первый элемент (10)\n",
    "print(s.loc['c']) # Третий элемент (30)\n",
    "print(s.loc['e']) # Последний элемент (50)"
   ]
  },
  {
   "cell_type": "code",
   "execution_count": 26,
   "id": "872a405c-22e0-4095-b4dc-3224b92068ca",
   "metadata": {},
   "outputs": [
    {
     "name": "stdout",
     "output_type": "stream",
     "text": [
      "b    20\n",
      "c    30\n",
      "dtype: int64\n",
      "b    20\n",
      "c    30\n",
      "d    40\n",
      "dtype: int64\n"
     ]
    }
   ],
   "source": [
    "# Срез с использованием iloc (позиционный индекс, невключительный stop)\n",
    "print(s.iloc[1:3]) # Выведет элементы с индексами 1 и 2 (20, 30)\n",
    "# Срез с использованием loc (меточная индексация, включительный stop)\n",
    "print(s.loc['b':'d'])"
   ]
  },
  {
   "cell_type": "code",
   "execution_count": 27,
   "id": "f9494f32-d053-44e2-8fe4-284a3ec7cc30",
   "metadata": {},
   "outputs": [
    {
     "name": "stdout",
     "output_type": "stream",
     "text": [
      "b    25\n",
      "d    30\n",
      "e    15\n",
      "dtype: int64\n"
     ]
    }
   ],
   "source": [
    "# Создаём Series с числовыми значениями\n",
    "s = pd.Series([10, 25, 8, 30, 15], index=['a', 'b', 'c', 'd', 'e'])\n",
    "# Фильтруем значения больше 10\n",
    "filtered_s = s[s > 10]\n",
    "print(filtered_s)"
   ]
  },
  {
   "cell_type": "code",
   "execution_count": 28,
   "id": "8cae806a-11bd-4b10-9b71-09304601d4fe",
   "metadata": {},
   "outputs": [
    {
     "name": "stdout",
     "output_type": "stream",
     "text": [
      "a    False\n",
      "b     True\n",
      "c    False\n",
      "d     True\n",
      "e     True\n",
      "dtype: bool\n"
     ]
    }
   ],
   "source": [
    "print(s>10)"
   ]
  },
  {
   "cell_type": "code",
   "execution_count": 29,
   "id": "bcf978f5-9252-437f-8045-657164454ef8",
   "metadata": {},
   "outputs": [
    {
     "name": "stdout",
     "output_type": "stream",
     "text": [
      "a    10\n",
      "b    25\n",
      "d    30\n",
      "e    15\n",
      "dtype: int64\n"
     ]
    }
   ],
   "source": [
    "# Фильтрация значений в диапазоне от 10 до 30\n",
    "filtered_s = s[(s >= 10) & (s <= 30)]\n",
    "print(filtered_s)"
   ]
  },
  {
   "cell_type": "code",
   "execution_count": 30,
   "id": "270e98f2-3d84-42e8-8742-a6a366313437",
   "metadata": {},
   "outputs": [
    {
     "name": "stdout",
     "output_type": "stream",
     "text": [
      "b    25\n",
      "d    30\n",
      "dtype: int64\n"
     ]
    }
   ],
   "source": [
    "# Выбираем только элементы, у которых индекс 'b' или 'd'\n",
    "filtered_s = s[s.index.isin(['b', 'd'])]\n",
    "print(filtered_s)"
   ]
  },
  {
   "cell_type": "code",
   "execution_count": 31,
   "id": "9ee80f9f-e74c-493c-b9b5-17c8584d2326",
   "metadata": {},
   "outputs": [
    {
     "name": "stdout",
     "output_type": "stream",
     "text": [
      "a    10.0\n",
      "c     8.0\n",
      "d    30.0\n",
      "dtype: float64\n"
     ]
    }
   ],
   "source": [
    "s_with_nan = pd.Series([10, None, 8, 30, None], index=['a', 'b', 'c',\n",
    "'d', 'e'])\n",
    "# Фильтрация только непустых значений\n",
    "filtered_s = s_with_nan[s_with_nan.notnull()]\n",
    "print(filtered_s)"
   ]
  },
  {
   "cell_type": "code",
   "execution_count": 32,
   "id": "fbae696e-da13-4a73-91b9-a910d588d219",
   "metadata": {},
   "outputs": [
    {
     "name": "stdout",
     "output_type": "stream",
     "text": [
      "a    10\n",
      "b    25\n",
      "c    30\n",
      "d    40\n",
      "dtype: int64\n"
     ]
    }
   ],
   "source": [
    "# Создаём Series\n",
    "s = pd.Series([10, 20, 30, 40], index=['a', 'b', 'c', 'd'])\n",
    "# Изменяем значение элемента с индексом 'b'\n",
    "s.loc['b'] = 25\n",
    "print(s)"
   ]
  },
  {
   "cell_type": "code",
   "execution_count": 33,
   "id": "38a5ba60-01da-4ec9-8937-4192a05543aa",
   "metadata": {},
   "outputs": [
    {
     "name": "stdout",
     "output_type": "stream",
     "text": [
      "a    10\n",
      "b    50\n",
      "c    30\n",
      "d    40\n",
      "dtype: int64\n"
     ]
    }
   ],
   "source": [
    "# Изменяем второй элемент (позиция 1)\n",
    "s.iloc[1] = 50\n",
    "print(s)"
   ]
  },
  {
   "cell_type": "code",
   "execution_count": 34,
   "id": "355787b4-36ad-404c-af2e-2ecb1c126734",
   "metadata": {},
   "outputs": [
    {
     "name": "stdout",
     "output_type": "stream",
     "text": [
      "a    10\n",
      "b    60\n",
      "c    30\n",
      "d    50\n",
      "dtype: int64\n"
     ]
    }
   ],
   "source": [
    "# Увеличиваем все значения больше 30 на 10\n",
    "s[s > 30] += 10\n",
    "print(s)"
   ]
  },
  {
   "cell_type": "code",
   "execution_count": 35,
   "id": "f0cd85ba-5c43-4f37-a050-d3bbc25dc564",
   "metadata": {},
   "outputs": [
    {
     "name": "stdout",
     "output_type": "stream",
     "text": [
      "a    100\n",
      "b     60\n",
      "c    200\n",
      "d     50\n",
      "dtype: int64\n"
     ]
    }
   ],
   "source": [
    "# Изменяем значения элементов с индексами 'a' и 'c'\n",
    "s.loc[['a', 'c']] = [100, 200]\n",
    "print(s)"
   ]
  },
  {
   "cell_type": "code",
   "execution_count": 36,
   "id": "d8febc94-853b-4414-a5a3-50adeb9cc701",
   "metadata": {},
   "outputs": [
    {
     "name": "stdout",
     "output_type": "stream",
     "text": [
      "a    200\n",
      "b    120\n",
      "c    400\n",
      "d    100\n",
      "dtype: int64\n"
     ]
    }
   ],
   "source": [
    "s = s.apply(lambda x: x * 2)\n",
    "print(s)"
   ]
  },
  {
   "cell_type": "code",
   "execution_count": 37,
   "id": "594fe963-2e7e-41c3-aef9-bcd95ab2f941",
   "metadata": {},
   "outputs": [
    {
     "name": "stdout",
     "output_type": "stream",
     "text": [
      "a    10.0\n",
      "b     0.0\n",
      "c    30.0\n",
      "d     0.0\n",
      "dtype: float64\n"
     ]
    }
   ],
   "source": [
    "s_with_nan = pd.Series([10, None, 30, None], index=['a', 'b', 'c',\n",
    "'d'])\n",
    "# Заполняем пропущенные значения числом 0\n",
    "s_filled = s_with_nan.fillna(0)\n",
    "print(s_filled)"
   ]
  },
  {
   "cell_type": "code",
   "execution_count": 38,
   "id": "0186e655-eda4-49ec-b2da-43fcdf8572f7",
   "metadata": {},
   "outputs": [
    {
     "name": "stdout",
     "output_type": "stream",
     "text": [
      "a    10\n",
      "b    20\n",
      "c    30\n",
      "dtype: int64\n"
     ]
    }
   ],
   "source": [
    "# Создаём Series\n",
    "s = pd.Series([10, 20, 30, 40, 50, 60, 70], index=['a', 'b', 'c', 'd',\n",
    "'e', 'f', 'g'])\n",
    "# Вывод первых 3 элементов\n",
    "print(s.head(3))"
   ]
  },
  {
   "cell_type": "code",
   "execution_count": 39,
   "id": "caa3eeea-55a9-493b-b852-6de7b01fb101",
   "metadata": {},
   "outputs": [
    {
     "name": "stdout",
     "output_type": "stream",
     "text": [
      "a    10\n",
      "b    20\n",
      "c    30\n",
      "d    40\n",
      "e    50\n",
      "dtype: int64\n"
     ]
    }
   ],
   "source": [
    "print(s.head())"
   ]
  },
  {
   "cell_type": "code",
   "execution_count": 40,
   "id": "717b8fa8-fc7a-4f41-b864-73a5cf8d407b",
   "metadata": {},
   "outputs": [
    {
     "name": "stdout",
     "output_type": "stream",
     "text": [
      "e    50\n",
      "f    60\n",
      "g    70\n",
      "dtype: int64\n"
     ]
    }
   ],
   "source": [
    "print(s.tail(3))"
   ]
  },
  {
   "cell_type": "code",
   "execution_count": 41,
   "id": "8ecdc4e5-e6bc-4784-bc4c-9f4aad7fd8c5",
   "metadata": {},
   "outputs": [
    {
     "name": "stdout",
     "output_type": "stream",
     "text": [
      "c    30\n",
      "d    40\n",
      "e    50\n",
      "f    60\n",
      "g    70\n",
      "dtype: int64\n"
     ]
    }
   ],
   "source": [
    "print(s.tail())"
   ]
  },
  {
   "cell_type": "code",
   "execution_count": 42,
   "id": "7ccc9472-6ff1-4785-aaae-017c79af03e2",
   "metadata": {},
   "outputs": [
    {
     "name": "stdout",
     "output_type": "stream",
     "text": [
      "Index(['a', 'b', 'c', 'd', 'e'], dtype='object')\n"
     ]
    }
   ],
   "source": [
    "# Создаём Series с пользовательскими индексами\n",
    "s = pd.Series([10, 20, 30, 40, 50], index=['a', 'b', 'c', 'd', 'e'])\n",
    "# Получение индексов\n",
    "print(s.index)"
   ]
  },
  {
   "cell_type": "code",
   "execution_count": 44,
   "id": "456bf3bb-fbe8-4df2-9b28-1e4807c839c4",
   "metadata": {},
   "outputs": [
    {
     "name": "stdout",
     "output_type": "stream",
     "text": [
      "a\n",
      "e\n"
     ]
    }
   ],
   "source": [
    "print(s.index[0])\n",
    "print(s.index[-1])"
   ]
  },
  {
   "cell_type": "code",
   "execution_count": 45,
   "id": "c73d484d-0842-4150-8fe7-a1f1e7483f21",
   "metadata": {},
   "outputs": [
    {
     "name": "stdout",
     "output_type": "stream",
     "text": [
      "True\n",
      "False\n"
     ]
    }
   ],
   "source": [
    "print('b' in s.index) \n",
    "print('z' in s.index) "
   ]
  },
  {
   "cell_type": "code",
   "execution_count": 46,
   "id": "914ac66c-71a3-4924-85d8-a70ab94d57a9",
   "metadata": {},
   "outputs": [
    {
     "name": "stdout",
     "output_type": "stream",
     "text": [
      "[10 20 30 40 50]\n"
     ]
    }
   ],
   "source": [
    "print(s.values)"
   ]
  },
  {
   "cell_type": "code",
   "execution_count": 47,
   "id": "99072c11-fc79-4480-906a-26d43dc88ecc",
   "metadata": {},
   "outputs": [
    {
     "name": "stdout",
     "output_type": "stream",
     "text": [
      "10\n",
      "30.0\n"
     ]
    }
   ],
   "source": [
    "print(s.values[0]) # 10\n",
    "print(s.values.mean())"
   ]
  },
  {
   "cell_type": "code",
   "execution_count": 48,
   "id": "4152ff7c-f232-4081-bc9e-8e82b99787c4",
   "metadata": {},
   "outputs": [
    {
     "name": "stdout",
     "output_type": "stream",
     "text": [
      "int64\n"
     ]
    }
   ],
   "source": [
    "# Создаём Series с целочисленными значениями\n",
    "s = pd.Series([10, 20, 30, 40, 50])\n",
    "# Определяем тип данных\n",
    "print(s.dtype)"
   ]
  },
  {
   "cell_type": "code",
   "execution_count": 49,
   "id": "bed3a9d8-cdf2-45bc-921e-7e3af266f551",
   "metadata": {},
   "outputs": [
    {
     "name": "stdout",
     "output_type": "stream",
     "text": [
      "float64\n",
      "object\n",
      "bool\n"
     ]
    }
   ],
   "source": [
    "s1 = pd.Series([1.5, 2.3, 3.7]) # Числа с плавающей запятой\n",
    "s2 = pd.Series([\"apple\", \"banana\", \"cherry\"]) # Строки\n",
    "s3 = pd.Series([True, False, True]) # Булевы значения\n",
    "print(s1.dtype) # float64\n",
    "print(s2.dtype) # object (строки)\n",
    "print(s3.dtype) # bool"
   ]
  },
  {
   "cell_type": "code",
   "execution_count": 50,
   "id": "f2a1a518-e5c4-4bfc-8231-a9e4e02c358f",
   "metadata": {},
   "outputs": [
    {
     "name": "stdout",
     "output_type": "stream",
     "text": [
      "0    1\n",
      "1    2\n",
      "2    3\n",
      "dtype: int32\n",
      "int32\n"
     ]
    }
   ],
   "source": [
    "# Преобразуем числа с плавающей запятой в целые\n",
    "s1_int = s1.astype(int)\n",
    "print(s1_int)\n",
    "print(s1_int.dtype)"
   ]
  },
  {
   "cell_type": "code",
   "execution_count": 52,
   "id": "7e383543-7baf-41f2-8fda-fc3820d3f1d7",
   "metadata": {},
   "outputs": [
    {
     "name": "stdout",
     "output_type": "stream",
     "text": [
      "object\n"
     ]
    }
   ],
   "source": [
    "s4 = pd.Series([10, \"apple\", 3.14, True])\n",
    "print(s4.dtype) # object"
   ]
  },
  {
   "cell_type": "code",
   "execution_count": 53,
   "id": "d8247cee-6fb1-454e-8060-3bf794c2e303",
   "metadata": {},
   "outputs": [
    {
     "name": "stdout",
     "output_type": "stream",
     "text": [
      "0    False\n",
      "1     True\n",
      "2    False\n",
      "3     True\n",
      "4    False\n",
      "dtype: bool\n"
     ]
    }
   ],
   "source": [
    "# Создаём Series с пропущенными значениями \n",
    "s = pd.Series([10, np.nan, 30, None, 50])\n",
    "# Проверяем наличие пропущенных значений\n",
    "print(s.isnull())"
   ]
  },
  {
   "cell_type": "code",
   "execution_count": 54,
   "id": "6d9ee149-493e-4c26-bede-a6c14ee2bbb5",
   "metadata": {},
   "outputs": [
    {
     "name": "stdout",
     "output_type": "stream",
     "text": [
      "0     True\n",
      "1    False\n",
      "2     True\n",
      "3    False\n",
      "4     True\n",
      "dtype: bool\n"
     ]
    }
   ],
   "source": [
    "print(s.notnull())"
   ]
  },
  {
   "cell_type": "code",
   "execution_count": 55,
   "id": "4972297e-1374-4cb3-b7f2-8eb04650477b",
   "metadata": {},
   "outputs": [
    {
     "name": "stdout",
     "output_type": "stream",
     "text": [
      "0    10.0\n",
      "2    30.0\n",
      "4    50.0\n",
      "dtype: float64\n"
     ]
    }
   ],
   "source": [
    "filtered_s = s[s.notnull()]\n",
    "print(filtered_s)"
   ]
  },
  {
   "cell_type": "code",
   "execution_count": 56,
   "id": "a49b1a0e-8bff-4e2a-9236-b403ea531357",
   "metadata": {},
   "outputs": [
    {
     "name": "stdout",
     "output_type": "stream",
     "text": [
      "1   NaN\n",
      "3   NaN\n",
      "dtype: float64\n"
     ]
    }
   ],
   "source": [
    "missing_values = s[s.isnull()]\n",
    "print(missing_values)"
   ]
  },
  {
   "cell_type": "code",
   "execution_count": 57,
   "id": "80cb8b0c-a937-4a08-9680-bde4102975a8",
   "metadata": {},
   "outputs": [
    {
     "name": "stdout",
     "output_type": "stream",
     "text": [
      "0    10.0\n",
      "1     0.0\n",
      "2    30.0\n",
      "3     0.0\n",
      "4    50.0\n",
      "dtype: float64\n"
     ]
    }
   ],
   "source": [
    "# Создаём Series с пропущенными значениями\n",
    "s = pd.Series([10, np.nan, 30, None, 50])\n",
    "# Заполняем пропущенные значения нулём\n",
    "s_filled = s.fillna(0)\n",
    "print(s_filled)"
   ]
  },
  {
   "cell_type": "code",
   "execution_count": 58,
   "id": "cf8616a4-393f-4dd7-94f5-da7d141521d9",
   "metadata": {},
   "outputs": [
    {
     "name": "stdout",
     "output_type": "stream",
     "text": [
      "0    10.0\n",
      "1    30.0\n",
      "2    30.0\n",
      "3    30.0\n",
      "4    50.0\n",
      "dtype: float64\n"
     ]
    }
   ],
   "source": [
    "s_filled = s.fillna(s.mean())\n",
    "print(s_filled)"
   ]
  },
  {
   "cell_type": "code",
   "execution_count": 59,
   "id": "72ebe482-4fc8-446c-8bb9-b6de0bab7154",
   "metadata": {},
   "outputs": [
    {
     "name": "stdout",
     "output_type": "stream",
     "text": [
      "0    10.0\n",
      "2    30.0\n",
      "4    50.0\n",
      "dtype: float64\n"
     ]
    }
   ],
   "source": [
    "s_cleaned = s.dropna()\n",
    "print(s_cleaned)"
   ]
  },
  {
   "cell_type": "code",
   "execution_count": 60,
   "id": "d838e771-0fb1-437c-9fa6-b49e471c6f87",
   "metadata": {},
   "outputs": [
    {
     "name": "stdout",
     "output_type": "stream",
     "text": [
      "0     20\n",
      "1     40\n",
      "2     60\n",
      "3     80\n",
      "4    100\n",
      "dtype: int64\n"
     ]
    }
   ],
   "source": [
    "# Создаём Series\n",
    "s = pd.Series([10, 20, 30, 40, 50])\n",
    "# Умножаем все элементы на 2\n",
    "s_multiplied = s * 2\n",
    "print(s_multiplied)"
   ]
  },
  {
   "cell_type": "code",
   "execution_count": 61,
   "id": "f1d08986-0564-4b35-bb7c-703dd74a0974",
   "metadata": {},
   "outputs": [
    {
     "name": "stdout",
     "output_type": "stream",
     "text": [
      "a    11\n",
      "b    22\n",
      "c    33\n",
      "d    44\n",
      "e    55\n",
      "dtype: int64\n"
     ]
    }
   ],
   "source": [
    "s1 = pd.Series([1, 2, 3, 4, 5], index=['a', 'b', 'c', 'd', 'e'])\n",
    "s2 = pd.Series([10, 20, 30, 40, 50], index=['a', 'b', 'c', 'd', 'e'])\n",
    "# Поэлементное сложение двух Series\n",
    "s_sum = s1 + s2\n",
    "print(s_sum)"
   ]
  },
  {
   "cell_type": "code",
   "execution_count": 64,
   "id": "98384ee5-f399-416d-bbfa-6e3118d5f103",
   "metadata": {},
   "outputs": [
    {
     "name": "stdout",
     "output_type": "stream",
     "text": [
      "a    101.0\n",
      "b    202.0\n",
      "c      NaN\n",
      "d      NaN\n",
      "e      NaN\n",
      "f      NaN\n",
      "dtype: float64\n"
     ]
    }
   ],
   "source": [
    "s3 = pd.Series([100, 200, 300], index=['a', 'b', 'f'])\n",
    "# Сложение Series с несовпадающими индексами\n",
    "s_result = s1 + s3\n",
    "print(s_result)"
   ]
  },
  {
   "cell_type": "code",
   "execution_count": 65,
   "id": "7917c7b8-edfa-4fcd-861c-38f4fb25cd88",
   "metadata": {},
   "outputs": [
    {
     "name": "stdout",
     "output_type": "stream",
     "text": [
      "a    101.0\n",
      "b    202.0\n",
      "c      3.0\n",
      "d      4.0\n",
      "e      5.0\n",
      "f    300.0\n",
      "dtype: float64\n"
     ]
    }
   ],
   "source": [
    "# Заменяем NaN на 0 при сложении\n",
    "s_result = s1.add(s3, fill_value=0)\n",
    "print(s_result)"
   ]
  },
  {
   "cell_type": "code",
   "execution_count": 66,
   "id": "d2a7d3b7-a419-4a65-8448-a0e595e038b1",
   "metadata": {},
   "outputs": [
    {
     "name": "stdout",
     "output_type": "stream",
     "text": [
      "0     1\n",
      "1     4\n",
      "2     9\n",
      "3    16\n",
      "4    25\n",
      "dtype: int64\n"
     ]
    }
   ],
   "source": [
    "# Создаём Series\n",
    "s = pd.Series([1, 2, 3, 4, 5])\n",
    "# Возводим в квадрат каждый элемент\n",
    "s_squared = s.apply(lambda x: x ** 2)\n",
    "print(s_squared)"
   ]
  },
  {
   "cell_type": "code",
   "execution_count": 68,
   "id": "9a1e8006-aa02-41d6-b650-ca04302c0c74",
   "metadata": {},
   "outputs": [
    {
     "name": "stdout",
     "output_type": "stream",
     "text": [
      "0    Value: 1\n",
      "1    Value: 2\n",
      "2    Value: 3\n",
      "3    Value: 4\n",
      "4    Value: 5\n",
      "dtype: object\n"
     ]
    }
   ],
   "source": [
    "def custom_function(x):\n",
    "    return f\"Value: {x}\"\n",
    "s_transformed = s.apply(custom_function)\n",
    "print(s_transformed)"
   ]
  },
  {
   "cell_type": "code",
   "execution_count": 69,
   "id": "54f640ff-171d-40e8-a711-ced521f3b9de",
   "metadata": {},
   "outputs": [
    {
     "name": "stdout",
     "output_type": "stream",
     "text": [
      "0    0.000000\n",
      "1    0.693147\n",
      "2    1.098612\n",
      "3    1.386294\n",
      "4    1.609438\n",
      "dtype: float64\n"
     ]
    }
   ],
   "source": [
    "# Применение функции np.log к каждому элементу\n",
    "s_log = s.apply(np.log)\n",
    "print(s_log)"
   ]
  },
  {
   "cell_type": "code",
   "execution_count": 70,
   "id": "6b5cbf1d-751b-4bae-aed9-68f382fb7eec",
   "metadata": {},
   "outputs": [
    {
     "name": "stdout",
     "output_type": "stream",
     "text": [
      "0     APPLE\n",
      "1    BANANA\n",
      "2    CHERRY\n",
      "dtype: object\n"
     ]
    }
   ],
   "source": [
    "s_text = pd.Series([\"apple\", \"banana\", \"cherry\"])\n",
    "# Преобразуем текст в верхний регистр\n",
    "s_upper = s_text.apply(str.upper)\n",
    "print(s_upper)"
   ]
  },
  {
   "cell_type": "code",
   "execution_count": 71,
   "id": "95fec50b-5669-47f7-97da-90a7b54021e0",
   "metadata": {},
   "outputs": [
    {
     "name": "stdout",
     "output_type": "stream",
     "text": [
      "150\n"
     ]
    }
   ],
   "source": [
    "s = pd.Series([10, 20, 30, 40, 50])\n",
    "# Вычисление суммы всех элементов\n",
    "print(s.sum())"
   ]
  },
  {
   "cell_type": "code",
   "execution_count": 73,
   "id": "b181c07a-5a7e-42ca-8e32-3a3b1a3af8e9",
   "metadata": {},
   "outputs": [
    {
     "name": "stdout",
     "output_type": "stream",
     "text": [
      "120.0\n"
     ]
    }
   ],
   "source": [
    "s_with_nan = pd.Series([10, 20, None, 40, 50])\n",
    "print(s_with_nan.sum()) # 120 (None игнорируется)"
   ]
  },
  {
   "cell_type": "code",
   "execution_count": 74,
   "id": "6fe6433b-44e0-4d11-ae2d-393f08f79063",
   "metadata": {},
   "outputs": [
    {
     "name": "stdout",
     "output_type": "stream",
     "text": [
      "30.0\n"
     ]
    }
   ],
   "source": [
    "print(s.mean()) # (10 + 20 + 30 + 40 + 50) / 5 = 30.0"
   ]
  },
  {
   "cell_type": "code",
   "execution_count": 75,
   "id": "b60eccfb-aa01-491e-99a7-963efdf6cef9",
   "metadata": {},
   "outputs": [
    {
     "name": "stdout",
     "output_type": "stream",
     "text": [
      "30.0\n"
     ]
    }
   ],
   "source": [
    "print(s_with_nan.mean()) # (10 + 20 + 40 + 50) / 4 = 30.0"
   ]
  },
  {
   "cell_type": "code",
   "execution_count": 76,
   "id": "3383148b-aab1-4c6c-bf00-3c78f1fd610a",
   "metadata": {},
   "outputs": [
    {
     "name": "stdout",
     "output_type": "stream",
     "text": [
      "10\n",
      "50\n"
     ]
    }
   ],
   "source": [
    "print(s.min()) # 10\n",
    "print(s.max()) # 50"
   ]
  },
  {
   "cell_type": "code",
   "execution_count": 77,
   "id": "b095527c-42f1-4a60-828f-aa239b420ede",
   "metadata": {},
   "outputs": [
    {
     "name": "stdout",
     "output_type": "stream",
     "text": [
      "count     5.000000\n",
      "mean     30.000000\n",
      "std      15.811388\n",
      "min      10.000000\n",
      "25%      20.000000\n",
      "50%      30.000000\n",
      "75%      40.000000\n",
      "max      50.000000\n",
      "dtype: float64\n"
     ]
    }
   ],
   "source": [
    "print(s.describe())"
   ]
  },
  {
   "cell_type": "code",
   "execution_count": 83,
   "id": "0c856ebc-3e1c-4637-9458-6444f3182e53",
   "metadata": {},
   "outputs": [
    {
     "name": "stdout",
     "output_type": "stream",
     "text": [
      "count         5\n",
      "unique        3\n",
      "top       apple\n",
      "freq          2\n",
      "dtype: object\n"
     ]
    }
   ],
   "source": [
    "s_text = pd.Series([\"apple\", \"banana\", \"apple\", \"cherry\", \"banana\"])\n",
    "print(s_text.describe())"
   ]
  },
  {
   "cell_type": "code",
   "execution_count": 84,
   "id": "2ef23b05-bf3f-4e4c-b9b6-9a2522fb92cd",
   "metadata": {},
   "outputs": [
    {
     "name": "stdout",
     "output_type": "stream",
     "text": [
      "0    0.000000\n",
      "1    0.693147\n",
      "2    1.098612\n",
      "3    1.386294\n",
      "4    1.609438\n",
      "dtype: float64\n"
     ]
    }
   ],
   "source": [
    "# Создаём Series\n",
    "s = pd.Series([1, 2, 3, 4, 5])\n",
    "# Применяем натуральный логарифм\n",
    "s_log = np.log(s)\n",
    "print(s_log)"
   ]
  },
  {
   "cell_type": "code",
   "execution_count": 85,
   "id": "134de73e-8693-4e0b-b47b-593282111ca6",
   "metadata": {},
   "outputs": [
    {
     "name": "stdout",
     "output_type": "stream",
     "text": [
      "0      2.718282\n",
      "1      7.389056\n",
      "2     20.085537\n",
      "3     54.598150\n",
      "4    148.413159\n",
      "dtype: float64\n"
     ]
    }
   ],
   "source": [
    "s_exp = np.exp(s)\n",
    "print(s_exp)"
   ]
  },
  {
   "cell_type": "code",
   "execution_count": 86,
   "id": "0523e111-0945-43aa-83ad-12e4d31ee3f7",
   "metadata": {},
   "outputs": [
    {
     "name": "stdout",
     "output_type": "stream",
     "text": [
      "0    1.000000\n",
      "1    1.414214\n",
      "2    1.732051\n",
      "3    2.000000\n",
      "4    2.236068\n",
      "dtype: float64\n"
     ]
    }
   ],
   "source": [
    "s_sqrt = np.sqrt(s)\n",
    "print(s_sqrt)"
   ]
  },
  {
   "cell_type": "code",
   "execution_count": 87,
   "id": "225a0ba0-ca42-49db-a559-0453898130c9",
   "metadata": {},
   "outputs": [
    {
     "name": "stdout",
     "output_type": "stream",
     "text": [
      "0    0.841471\n",
      "1    0.909297\n",
      "2    0.141120\n",
      "3   -0.756802\n",
      "4   -0.958924\n",
      "dtype: float64\n",
      "0    0.540302\n",
      "1   -0.416147\n",
      "2   -0.989992\n",
      "3   -0.653644\n",
      "4    0.283662\n",
      "dtype: float64\n",
      "0    1\n",
      "1    2\n",
      "2    3\n",
      "3    4\n",
      "4    5\n",
      "dtype: int64\n"
     ]
    }
   ],
   "source": [
    "print(np.sin(s)) # Синус каждого элемента\n",
    "print(np.cos(s)) # Косинус каждого элемента\n",
    "print(np.abs(s)) # Модуль значений"
   ]
  },
  {
   "cell_type": "code",
   "execution_count": 90,
   "id": "728c7be9-3e48-40cb-9f06-af80f9ab9068",
   "metadata": {},
   "outputs": [
    {
     "name": "stdout",
     "output_type": "stream",
     "text": [
      "0    1.0\n",
      "1    NaN\n",
      "2    2.0\n",
      "3    3.0\n",
      "dtype: float64\n"
     ]
    }
   ],
   "source": [
    "s_with_nan = pd.Series([1, np.nan, 4, 9])\n",
    "# Применяем квадратный корень\n",
    "print(np.sqrt(s_with_nan))"
   ]
  },
  {
   "cell_type": "code",
   "execution_count": 91,
   "id": "81f5adab-32a6-4439-9280-ada031d01446",
   "metadata": {},
   "outputs": [
    {
     "name": "stdout",
     "output_type": "stream",
     "text": [
      "x    10\n",
      "y    20\n",
      "z    30\n",
      "w    40\n",
      "dtype: int64\n"
     ]
    }
   ],
   "source": [
    "# Создаём Series\n",
    "s = pd.Series([10, 20, 30, 40], index=['a', 'b', 'c', 'd'])\n",
    "# Задаём новый индекс\n",
    "s.index = ['x', 'y', 'z', 'w']\n",
    "print(s)"
   ]
  },
  {
   "cell_type": "code",
   "execution_count": 92,
   "id": "dc9929c0-531a-40c2-ad49-bbd6e5880ec9",
   "metadata": {},
   "outputs": [
    {
     "name": "stdout",
     "output_type": "stream",
     "text": [
      "0    10\n",
      "1    20\n",
      "2    30\n",
      "3    40\n",
      "dtype: int64\n"
     ]
    }
   ],
   "source": [
    "s_reset = s.reset_index(drop=True)\n",
    "print(s_reset)"
   ]
  },
  {
   "cell_type": "code",
   "execution_count": 94,
   "id": "2f70bd20-f316-4426-9deb-3fc3d4ce211a",
   "metadata": {},
   "outputs": [
    {
     "name": "stdout",
     "output_type": "stream",
     "text": [
      "True\n"
     ]
    }
   ],
   "source": [
    "# Создаём Series с уникальными индексами\n",
    "s_unique = pd.Series([10, 20, 30], index=['a', 'b', 'c'])\n",
    "# Проверяем уникальность индексов\n",
    "print(s_unique.index.is_unique)"
   ]
  },
  {
   "cell_type": "code",
   "execution_count": 95,
   "id": "43495fa3-f8a1-4586-a6f3-8086b2da399a",
   "metadata": {},
   "outputs": [
    {
     "name": "stdout",
     "output_type": "stream",
     "text": [
      "False\n"
     ]
    }
   ],
   "source": [
    "# Создаём Series с повторяющимися индексами\n",
    "s_duplicate = pd.Series([10, 20, 30, 40], index=['a', 'b', 'a', 'c'])\n",
    "# Проверяем уникальность индексов\n",
    "print(s_duplicate.index.is_unique)"
   ]
  },
  {
   "cell_type": "code",
   "execution_count": 96,
   "id": "979eb053-3fbf-409e-a67e-09024dd5b2bc",
   "metadata": {},
   "outputs": [
    {
     "name": "stdout",
     "output_type": "stream",
     "text": [
      "a    10\n",
      "a    30\n",
      "dtype: int64\n"
     ]
    }
   ],
   "source": [
    "print(s_duplicate.loc['a'])"
   ]
  },
  {
   "cell_type": "code",
   "execution_count": 97,
   "id": "77f4c8d0-c4aa-4725-bd91-966f58fcb921",
   "metadata": {},
   "outputs": [
    {
     "name": "stdout",
     "output_type": "stream",
     "text": [
      "0    10\n",
      "1    20\n",
      "2    30\n",
      "3    40\n",
      "dtype: int64\n"
     ]
    }
   ],
   "source": [
    "s_reset = s_duplicate.reset_index(drop=True)\n",
    "print(s_reset)"
   ]
  },
  {
   "cell_type": "code",
   "execution_count": 98,
   "id": "a8dc16e0-fdc4-4d60-a549-963fc0059029",
   "metadata": {},
   "outputs": [
    {
     "name": "stdout",
     "output_type": "stream",
     "text": [
      "a_0    10\n",
      "b_1    20\n",
      "a_2    30\n",
      "c_3    40\n",
      "dtype: int64\n"
     ]
    }
   ],
   "source": [
    "s_duplicate.index = [f\"{i}_{n}\" for n, i in\n",
    "enumerate(s_duplicate.index)]\n",
    "print(s_duplicate)"
   ]
  },
  {
   "cell_type": "code",
   "execution_count": 99,
   "id": "c39ad991-41cb-402a-981e-761d3d71b178",
   "metadata": {},
   "outputs": [
    {
     "name": "stdout",
     "output_type": "stream",
     "text": [
      "a    30\n",
      "b    20\n",
      "c    40\n",
      "d    10\n",
      "dtype: int64\n"
     ]
    }
   ],
   "source": [
    "# Создаём Series с неупорядоченными индексами\n",
    "s = pd.Series([10, 20, 30, 40], index=['d', 'b', 'a', 'c'])\n",
    "# Сортируем по индексу\n",
    "s_sorted = s.sort_index()\n",
    "print(s_sorted)"
   ]
  },
  {
   "cell_type": "code",
   "execution_count": 100,
   "id": "c3f8ec01-4687-4d7a-b975-8feeb64e20e4",
   "metadata": {},
   "outputs": [
    {
     "name": "stdout",
     "output_type": "stream",
     "text": [
      "d    10\n",
      "c    40\n",
      "b    20\n",
      "a    30\n",
      "dtype: int64\n"
     ]
    }
   ],
   "source": [
    "s_sorted_desc = s.sort_index(ascending=False)\n",
    "print(s_sorted_desc)"
   ]
  },
  {
   "cell_type": "code",
   "execution_count": 101,
   "id": "0e7b5072-7f88-4d5b-a0bc-895011ff2c50",
   "metadata": {},
   "outputs": [
    {
     "name": "stdout",
     "output_type": "stream",
     "text": [
      "d    10\n",
      "b    20\n",
      "a    30\n",
      "c    40\n",
      "dtype: int64\n"
     ]
    }
   ],
   "source": [
    "# Сортируем по значениям\n",
    "s_sorted_values = s.sort_values()\n",
    "print(s_sorted_values)"
   ]
  },
  {
   "cell_type": "code",
   "execution_count": 103,
   "id": "c3f20a4d-39b5-47c4-aaf3-51a389a8e17b",
   "metadata": {},
   "outputs": [
    {
     "name": "stdout",
     "output_type": "stream",
     "text": [
      "c    40\n",
      "a    30\n",
      "b    20\n",
      "d    10\n",
      "dtype: int64\n"
     ]
    }
   ],
   "source": [
    "s_sorted_values_desc = s.sort_values(ascending=False)\n",
    "print(s_sorted_values_desc)"
   ]
  },
  {
   "cell_type": "code",
   "execution_count": 104,
   "id": "21934ab5-fff7-4ef2-bcfd-34488f88fff1",
   "metadata": {},
   "outputs": [
    {
     "name": "stdout",
     "output_type": "stream",
     "text": [
      "a    10.0\n",
      "e    20.0\n",
      "c    30.0\n",
      "b     NaN\n",
      "d     NaN\n",
      "dtype: float64\n"
     ]
    }
   ],
   "source": [
    "s_nan = pd.Series([10, None, 30, None, 20], index=['a', 'b', 'c', 'd',\n",
    "'e'])\n",
    "# Сортируем по значениям\n",
    "print(s_nan.sort_values())"
   ]
  },
  {
   "cell_type": "code",
   "execution_count": 105,
   "id": "a63f68a6-bafd-4b49-a8f5-c78b07b838a7",
   "metadata": {},
   "outputs": [
    {
     "name": "stdout",
     "output_type": "stream",
     "text": [
      "b     NaN\n",
      "d     NaN\n",
      "a    10.0\n",
      "e    20.0\n",
      "c    30.0\n",
      "dtype: float64\n"
     ]
    }
   ],
   "source": [
    "print(s_nan.sort_values(na_position='first'))"
   ]
  },
  {
   "cell_type": "code",
   "execution_count": 108,
   "id": "33c692c2-e342-4654-9fe7-9d41c874066d",
   "metadata": {},
   "outputs": [
    {
     "name": "stdout",
     "output_type": "stream",
     "text": [
      "2024-03-01    100\n",
      "2024-03-02    105\n",
      "2024-03-03    102\n",
      "2024-03-04     98\n",
      "2024-03-05    110\n",
      "Freq: D, dtype: int64\n"
     ]
    }
   ],
   "source": [
    "# Создаём список дат\n",
    "dates = pd.date_range(start='2024-03-01', periods=5, freq='D')\n",
    "# Создаём Series с временными метками в качестве индекса\n",
    "s = pd.Series([100, 105, 102, 98, 110], index=dates)\n",
    "print(s)"
   ]
  },
  {
   "cell_type": "code",
   "execution_count": 109,
   "id": "06358ad6-79b4-4a8b-8ff5-b6ce76f6e66f",
   "metadata": {},
   "outputs": [
    {
     "name": "stdout",
     "output_type": "stream",
     "text": [
      "102\n"
     ]
    }
   ],
   "source": [
    "print(s['2024-03-03']) # Выведет 102"
   ]
  },
  {
   "cell_type": "code",
   "execution_count": 110,
   "id": "85ad0d4f-e6e6-4cce-987f-d02cea72f0b4",
   "metadata": {},
   "outputs": [
    {
     "name": "stdout",
     "output_type": "stream",
     "text": [
      "2024-03-02    105\n",
      "2024-03-03    102\n",
      "2024-03-04     98\n",
      "Freq: D, dtype: int64\n"
     ]
    }
   ],
   "source": [
    "print(s['2024-03-02':'2024-03-04'])"
   ]
  },
  {
   "cell_type": "code",
   "execution_count": 112,
   "id": "0b9a3912-c73e-42f8-8275-ae3bbd053030",
   "metadata": {},
   "outputs": [
    {
     "name": "stdout",
     "output_type": "stream",
     "text": [
      "2024-03-01 00:00:00    10\n",
      "2024-03-01 01:00:00    15\n",
      "2024-03-01 02:00:00    12\n",
      "2024-03-01 03:00:00     8\n",
      "2024-03-01 04:00:00    20\n",
      "Freq: h, dtype: int64\n"
     ]
    }
   ],
   "source": [
    "dates = pd.date_range(start='2024-03-01', periods=5, freq='h')\n",
    "s = pd.Series([10, 15, 12, 8, 20], index=dates)\n",
    "print(s)"
   ]
  },
  {
   "cell_type": "code",
   "execution_count": 113,
   "id": "4f74d994-9295-4e7f-b448-44000a0bd0fc",
   "metadata": {},
   "outputs": [
    {
     "name": "stdout",
     "output_type": "stream",
     "text": [
      "2024-03-01    100\n",
      "2024-03-02    200\n",
      "2024-03-03    150\n",
      "dtype: int64\n"
     ]
    }
   ],
   "source": [
    "s = pd.Series([100, 200, 150], index=['2024-03-01', '2024-03-02',\n",
    "'2024-03-03'])\n",
    "s.index = pd.to_datetime(s.index)\n",
    "print(s)"
   ]
  },
  {
   "cell_type": "code",
   "execution_count": 114,
   "id": "c36f2eac-6a5b-4eae-8c6f-488e40df9cbc",
   "metadata": {},
   "outputs": [
    {
     "name": "stdout",
     "output_type": "stream",
     "text": [
      "2024-03-01    100.0\n",
      "2024-03-02    200.0\n",
      "2024-03-03    150.0\n",
      "Freq: D, dtype: float64\n"
     ]
    }
   ],
   "source": [
    "print(s.resample('D').mean()) # Среднее значение за день"
   ]
  },
  {
   "cell_type": "code",
   "execution_count": 115,
   "id": "3d7f000b-11e0-430b-a75d-194d2f4c0e08",
   "metadata": {},
   "outputs": [
    {
     "name": "stdout",
     "output_type": "stream",
     "text": [
      "2024-03-01    100\n",
      "2024-03-02    200\n",
      "2024-03-03    150\n",
      "dtype: int64\n"
     ]
    }
   ],
   "source": [
    "print(s[s.index.year == 2024])"
   ]
  },
  {
   "cell_type": "code",
   "execution_count": 117,
   "id": "c860c684-e568-4678-bdca-edff192f327f",
   "metadata": {},
   "outputs": [
    {
     "name": "stdout",
     "output_type": "stream",
     "text": [
      "2024-03-01      NaN\n",
      "2024-03-02    100.0\n",
      "2024-03-03    200.0\n",
      "dtype: float64\n"
     ]
    }
   ],
   "source": [
    "print(s.shift(1)) # Сдвиг на один период вперёд"
   ]
  },
  {
   "cell_type": "code",
   "execution_count": 119,
   "id": "767e8104-893a-4fec-8e14-85f60281a4b2",
   "metadata": {},
   "outputs": [
    {
     "name": "stdout",
     "output_type": "stream",
     "text": [
      "2024-03-01     NaN\n",
      "2024-03-02     NaN\n",
      "2024-03-03    20.0\n",
      "2024-03-04    30.0\n",
      "2024-03-05    40.0\n",
      "2024-03-06    50.0\n",
      "2024-03-07    60.0\n",
      "Freq: D, dtype: float64\n"
     ]
    }
   ],
   "source": [
    "# Создаём Series с временным индексом\n",
    "s = pd.Series([10, 20, 30, 40, 50, 60, 70], index=pd.date_range(\"2024-03-01\", periods=7, freq=\"D\"))\n",
    "# Вычисляем скользящее среднее с окном 3\n",
    "s_ma = s.rolling(window=3).mean()\n",
    "print(s_ma)"
   ]
  },
  {
   "cell_type": "code",
   "execution_count": 120,
   "id": "f7dae6b0-9a35-484c-9ae2-2f8d70049159",
   "metadata": {},
   "outputs": [
    {
     "name": "stdout",
     "output_type": "stream",
     "text": [
      "2024-03-01     NaN\n",
      "2024-03-02     NaN\n",
      "2024-03-03     NaN\n",
      "2024-03-04     NaN\n",
      "2024-03-05    30.0\n",
      "2024-03-06    40.0\n",
      "2024-03-07    50.0\n",
      "Freq: D, dtype: float64\n"
     ]
    }
   ],
   "source": [
    "s_ma5 = s.rolling(window=5).mean()\n",
    "print(s_ma5)"
   ]
  },
  {
   "cell_type": "code",
   "execution_count": 121,
   "id": "13073e9d-5c21-4fd9-b1a2-5da660b7da74",
   "metadata": {},
   "outputs": [
    {
     "name": "stdout",
     "output_type": "stream",
     "text": [
      "2024-03-01    10.0\n",
      "2024-03-02    15.0\n",
      "2024-03-03    20.0\n",
      "2024-03-04    30.0\n",
      "2024-03-05    40.0\n",
      "2024-03-06    50.0\n",
      "2024-03-07    60.0\n",
      "Freq: D, dtype: float64\n"
     ]
    }
   ],
   "source": [
    "s_ma2 = s.rolling(window=3, min_periods=1).mean()\n",
    "print(s_ma2)"
   ]
  },
  {
   "cell_type": "code",
   "execution_count": 122,
   "id": "b702b53e-9d97-4005-9b0d-93753a2265b7",
   "metadata": {},
   "outputs": [
    {
     "data": {
      "image/png": "[encoded data removed]",
      "text/plain": [
       "<Figure size 800x400 with 1 Axes>"
      ]
     },
     "metadata": {},
     "output_type": "display_data"
    }
   ],
   "source": [
    "import matplotlib.pyplot as plt\n",
    "# Построим график\n",
    "plt.figure(figsize=(8, 4))\n",
    "plt.plot(s, label=\"Исходные данные\", marker=\"o\")\n",
    "plt.plot(s.rolling(window=3).mean(), label=\"Скользящее среднее (3)\",\n",
    "linestyle=\"--\", color=\"red\")\n",
    "plt.xlabel(\"Дата\")\n",
    "plt.ylabel(\"Значение\")\n",
    "plt.title(\"Скользящее среднее в Series\")\n",
    "plt.legend()\n",
    "plt.grid()\n",
    "plt.show()"
   ]
  },
  {
   "cell_type": "code",
   "execution_count": 123,
   "id": "083660b9-d10f-4263-a42b-debc5e25202f",
   "metadata": {},
   "outputs": [
    {
     "name": "stdout",
     "output_type": "stream",
     "text": [
      "0         NaN\n",
      "1    0.100000\n",
      "2    0.090909\n",
      "3   -0.250000\n",
      "4    0.666667\n",
      "dtype: float64\n"
     ]
    }
   ],
   "source": [
    "# Создаём Series\n",
    "s = pd.Series([100, 110, 120, 90, 150])\n",
    "# Вычисляем процентное изменение\n",
    "print(s.pct_change())"
   ]
  },
  {
   "cell_type": "code",
   "execution_count": 124,
   "id": "f4276517-9b59-4508-93f8-bee006c06e74",
   "metadata": {},
   "outputs": [
    {
     "name": "stdout",
     "output_type": "stream",
     "text": [
      "0          NaN\n",
      "1    10.000000\n",
      "2     9.090909\n",
      "3   -25.000000\n",
      "4    66.666667\n",
      "dtype: float64\n"
     ]
    }
   ],
   "source": [
    "print(s.pct_change() * 100)"
   ]
  },
  {
   "cell_type": "code",
   "execution_count": 125,
   "id": "69f79b05-561b-4c3a-9dbb-b61c2ce1c7d9",
   "metadata": {},
   "outputs": [
    {
     "name": "stdout",
     "output_type": "stream",
     "text": [
      "0         NaN\n",
      "1         NaN\n",
      "2    0.200000\n",
      "3   -0.181818\n",
      "4    0.250000\n",
      "dtype: float64\n"
     ]
    }
   ],
   "source": [
    "print(s.pct_change(periods=2))"
   ]
  },
  {
   "cell_type": "code",
   "execution_count": 127,
   "id": "3285b58f-21bc-4dd3-8e75-c8b05852f0f2",
   "metadata": {},
   "outputs": [
    {
     "data": {
      "image/png": "[encoded data removed]",
      "text/plain": [
       "<Figure size 1000x500 with 1 Axes>"
      ]
     },
     "metadata": {},
     "output_type": "display_data"
    },
    {
     "data": {
      "image/png": "[encoded data removed]",
      "text/plain": [
       "<Figure size 1000x500 with 1 Axes>"
      ]
     },
     "metadata": {},
     "output_type": "display_data"
    }
   ],
   "source": [
    "# Генерируем данные о цене акции\n",
    "dates = pd.date_range(start=\"2024-01-01\", periods=30, freq=\"D\")\n",
    "prices = pd.Series(np.random.randint(90, 110, size=30), index=dates)\n",
    "# Вычисляем процентный прирост\n",
    "returns = prices.pct_change() * 100\n",
    "# Построим график\n",
    "plt.figure(figsize=(10, 5))\n",
    "plt.plot(prices, label=\"Цена акции\", marker=\"o\")\n",
    "plt.ylabel(\"Цена\")\n",
    "plt.xlabel(\"Дата\")\n",
    "plt.title(\"График цены акции\")\n",
    "plt.figure(figsize=(10, 5))\n",
    "plt.bar(returns.index, returns, color=\"red\", alpha=0.7,\n",
    "label=\"Процентное изменение\")\n",
    "plt.axhline(0, color=\"black\", linestyle=\"--\")\n",
    "plt.ylabel(\"Изменение (%)\")\n",
    "plt.xlabel(\"Дата\")\n",
    "plt.title(\"Процентное изменение цены акции\")\n",
    "plt.legend()\n",
    "plt.show()"
   ]
  },
  {
   "cell_type": "code",
   "execution_count": 131,
   "id": "2f591922-8efb-4fc1-8fa2-4e1584dc529f",
   "metadata": {},
   "outputs": [
    {
     "name": "stdout",
     "output_type": "stream",
     "text": [
      "Series([], Name: Цена, dtype: object)\n"
     ]
    }
   ],
   "source": [
    "# Читаем CSV-файл\n",
    "df = pd.read_csv(\"data.csv\", header=None, names=[\"Дата\", \"Цена\"])\n",
    "# Создаём Series на основе столбца \"Цена\"\n",
    "s = df[\"Цена\"]\n",
    "print(s)"
   ]
  }
 ],
 "metadata": {
  "kernelspec": {
   "display_name": "Python 3 (ipykernel)",
   "language": "python",
   "name": "python3"
  },
  "language_info": {
   "codemirror_mode": {
    "name": "ipython",
    "version": 3
   },
   "file_extension": ".py",
   "mimetype": "text/x-python",
   "name": "python",
   "nbconvert_exporter": "python",
   "pygments_lexer": "ipython3",
   "version": "3.12.7"
  }
 },
 "nbformat": 4,
 "nbformat_minor": 5
}
